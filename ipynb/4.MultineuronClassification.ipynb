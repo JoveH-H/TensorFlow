{
 "cells": [
  {
   "cell_type": "markdown",
   "metadata": {},
   "source": [
    "# 1. 多神经元分类问题"
   ]
  },
  {
   "cell_type": "markdown",
   "metadata": {},
   "source": [
    "假如对单神经元的模型92.28%的准确率还不满意\n",
    "\n",
    "那么对于神经网络来说，可以添加多一些神经元\n",
    "\n",
    "那么，还是以MNIST手写数字识别问题为例"
   ]
  },
  {
   "cell_type": "markdown",
   "metadata": {},
   "source": [
    "# 2. 数据读取"
   ]
  },
  {
   "cell_type": "markdown",
   "metadata": {},
   "source": [
    "利用网上的 MNIST 数据集(http://yann.lecun.com/exdb/mnist/)获取数据集压缩文件（切勿解压）：\n",
    "\n",
    "train-images-idx3-ubyte.gz --- 6万张28x28大小的训练数字图像\n",
    "\n",
    "train-labels-idx1-ubyte.gz --- 6万张训练图像的数字标记\n",
    "\n",
    "t10k-images-idx3-ubyte.gz  --- 1万张28x28大小的测试数字图像\n",
    "\n",
    "t10k-labels-idx1-ubyte.gz  --- 1万张测试图像的数字标记"
   ]
  },
  {
   "cell_type": "code",
   "execution_count": 1,
   "metadata": {},
   "outputs": [
    {
     "name": "stdout",
     "output_type": "stream",
     "text": [
      "WARNING:tensorflow:From <ipython-input-1-f0ca348e51c4>:9: read_data_sets (from tensorflow.contrib.learn.python.learn.datasets.mnist) is deprecated and will be removed in a future version.\n",
      "Instructions for updating:\n",
      "Please use alternatives such as official/mnist/dataset.py from tensorflow/models.\n",
      "WARNING:tensorflow:From c:\\users\\dell\\appdata\\local\\programs\\python\\python37\\lib\\site-packages\\tensorflow\\contrib\\learn\\python\\learn\\datasets\\mnist.py:260: maybe_download (from tensorflow.contrib.learn.python.learn.datasets.base) is deprecated and will be removed in a future version.\n",
      "Instructions for updating:\n",
      "Please write your own downloading logic.\n",
      "WARNING:tensorflow:From c:\\users\\dell\\appdata\\local\\programs\\python\\python37\\lib\\site-packages\\tensorflow\\contrib\\learn\\python\\learn\\datasets\\mnist.py:262: extract_images (from tensorflow.contrib.learn.python.learn.datasets.mnist) is deprecated and will be removed in a future version.\n",
      "Instructions for updating:\n",
      "Please use tf.data to implement this functionality.\n",
      "Extracting ../data/train-images-idx3-ubyte.gz\n",
      "WARNING:tensorflow:From c:\\users\\dell\\appdata\\local\\programs\\python\\python37\\lib\\site-packages\\tensorflow\\contrib\\learn\\python\\learn\\datasets\\mnist.py:267: extract_labels (from tensorflow.contrib.learn.python.learn.datasets.mnist) is deprecated and will be removed in a future version.\n",
      "Instructions for updating:\n",
      "Please use tf.data to implement this functionality.\n",
      "Extracting ../data/train-labels-idx1-ubyte.gz\n",
      "WARNING:tensorflow:From c:\\users\\dell\\appdata\\local\\programs\\python\\python37\\lib\\site-packages\\tensorflow\\contrib\\learn\\python\\learn\\datasets\\mnist.py:110: dense_to_one_hot (from tensorflow.contrib.learn.python.learn.datasets.mnist) is deprecated and will be removed in a future version.\n",
      "Instructions for updating:\n",
      "Please use tf.one_hot on tensors.\n",
      "Extracting ../data/t10k-images-idx3-ubyte.gz\n",
      "Extracting ../data/t10k-labels-idx1-ubyte.gz\n",
      "WARNING:tensorflow:From c:\\users\\dell\\appdata\\local\\programs\\python\\python37\\lib\\site-packages\\tensorflow\\contrib\\learn\\python\\learn\\datasets\\mnist.py:290: DataSet.__init__ (from tensorflow.contrib.learn.python.learn.datasets.mnist) is deprecated and will be removed in a future version.\n",
      "Instructions for updating:\n",
      "Please use alternatives such as official/mnist/dataset.py from tensorflow/models.\n",
      "训练集数量： 55000\n",
      "验证集数量： 5000\n",
      "测试集数量： 10000\n"
     ]
    }
   ],
   "source": [
    "import tensorflow as tf\n",
    "from tensorflow.examples.tutorials.mnist import input_data\n",
    "import matplotlib.pyplot as plt\n",
    "import numpy as np\n",
    "\n",
    "%matplotlib inline\n",
    "\n",
    "# 载入数据集\n",
    "mnist = input_data.read_data_sets(\"../data/\", one_hot=True)\n",
    "\n",
    "# 显示数据集数量\n",
    "print(\"训练集数量：\", mnist.train.num_examples)\n",
    "print(\"验证集数量：\", mnist.validation.num_examples)\n",
    "print(\"测试集数量：\", mnist.test.num_examples)"
   ]
  },
  {
   "cell_type": "code",
   "execution_count": 2,
   "metadata": {},
   "outputs": [
    {
     "name": "stdout",
     "output_type": "stream",
     "text": [
      "训练图像大小： (55000, 784)\n",
      "训练标签大小： (55000, 10)\n"
     ]
    }
   ],
   "source": [
    "# 显示数据集大小\n",
    "print(\"训练图像大小：\", mnist.train.images.shape)\n",
    "print(\"训练标签大小：\", mnist.train.labels.shape)"
   ]
  },
  {
   "cell_type": "code",
   "execution_count": 3,
   "metadata": {},
   "outputs": [
    {
     "data": {
      "image/png": "[encoded data removed]",
      "text/plain": [
       "<Figure size 432x288 with 1 Axes>"
      ]
     },
     "metadata": {
      "needs_background": "light"
     },
     "output_type": "display_data"
    },
    {
     "name": "stdout",
     "output_type": "stream",
     "text": [
      "[0. 0. 0. 1. 0. 0. 0. 0. 0. 0.]\n"
     ]
    }
   ],
   "source": [
    "# 可视化图像\n",
    "def plot_image(image):\n",
    "    plt.imshow(image.reshape(28, 28), cmap='binary')\n",
    "    plt.show()\n",
    "\n",
    "\n",
    "# 可视化第二张训练图像\n",
    "plot_image(mnist.train.images[1])\n",
    "\n",
    "# 可视化第二张图像的标签\n",
    "print(mnist.train.labels[1])"
   ]
  },
  {
   "cell_type": "markdown",
   "metadata": {},
   "source": [
    "# 3. 构建模型"
   ]
  },
  {
   "cell_type": "code",
   "execution_count": 4,
   "metadata": {},
   "outputs": [
    {
     "name": "stdout",
     "output_type": "stream",
     "text": [
      "WARNING:tensorflow:From c:\\users\\dell\\appdata\\local\\programs\\python\\python37\\lib\\site-packages\\tensorflow\\python\\framework\\op_def_library.py:263: colocate_with (from tensorflow.python.framework.ops) is deprecated and will be removed in a future version.\n",
      "Instructions for updating:\n",
      "Colocations handled automatically by placer.\n"
     ]
    }
   ],
   "source": [
    "# 定义训练数据的占位符， x是784个像素点的特征值， y是10分类的标签值\n",
    "x = tf.placeholder(tf.float32, [None, 784], name=\"X\")\n",
    "y = tf.placeholder(tf.float32, [None, 10], name=\"Y\")\n",
    "\n",
    "H1_NN = 256  # 第一隐藏层神经元为256个\n",
    "H2_NN = 128  # 第二隐藏层神经元为128个\n",
    "\n",
    "# 第一隐藏层权重\n",
    "W1 = tf.Variable(tf.random_normal([784, H1_NN], stddev=0.01))\n",
    "b1 = tf.Variable(tf.zeros([H1_NN]))\n",
    "\n",
    "# 第二隐藏层权重\n",
    "W2 = tf.Variable(tf.random_normal([H1_NN, H2_NN], stddev=0.01))\n",
    "b2 = tf.Variable(tf.zeros([H2_NN]))\n",
    "\n",
    "# 输出层权重\n",
    "W3 = tf.Variable(tf.random_normal([H2_NN, 10], stddev=0.01))\n",
    "b3 = tf.Variable(tf.zeros([10]))\n",
    "\n",
    "# 定义向前传播计算\n",
    "A1 = tf.nn.relu(tf.matmul(x, W1) + b1)  # 使用relu激活函数计算第一隐藏层结果\n",
    "A2 = tf.nn.relu(tf.matmul(A1, W2) + b2)  # 使用relu激活函数计算第二隐藏层结果\n",
    "forward = tf.matmul(A2, W3) + b3  # 计算输出层结果\n",
    "\n",
    "# 定义分类结果softmax分类\n",
    "pred = tf.nn.softmax(forward)\n",
    "\n",
    "# 定义逻辑回归损失函数\n",
    "with tf.name_scope(\"LossFunction\"):\n",
    "    loss_function = tf.reduce_mean(tf.nn.softmax_cross_entropy_with_logits_v2(logits=forward, labels=y))"
   ]
  },
  {
   "cell_type": "markdown",
   "metadata": {},
   "source": [
    "# 4. 训练模型"
   ]
  },
  {
   "cell_type": "code",
   "execution_count": 5,
   "metadata": {},
   "outputs": [
    {
     "name": "stdout",
     "output_type": "stream",
     "text": [
      "Train Epoch 01 Loss= 2.296337843 Accuracy= 0.1126\n",
      "Train Epoch 02 Loss= 2.117797136 Accuracy= 0.2906\n",
      "Train Epoch 03 Loss= 0.778396070 Accuracy= 0.7488\n",
      "Train Epoch 04 Loss= 0.593462288 Accuracy= 0.8248\n",
      "Train Epoch 05 Loss= 0.483155459 Accuracy= 0.8676\n",
      "Train Epoch 06 Loss= 0.404690206 Accuracy= 0.8888\n",
      "Train Epoch 07 Loss= 0.357581675 Accuracy= 0.9004\n",
      "Train Epoch 08 Loss= 0.326732367 Accuracy= 0.9060\n",
      "Train Epoch 09 Loss= 0.302614897 Accuracy= 0.9164\n",
      "Train Epoch 10 Loss= 0.284338713 Accuracy= 0.9192\n",
      "Train Epoch 11 Loss= 0.260221779 Accuracy= 0.9296\n",
      "Train Epoch 12 Loss= 0.242645726 Accuracy= 0.9314\n",
      "Train Epoch 13 Loss= 0.226237401 Accuracy= 0.9392\n",
      "Train Epoch 14 Loss= 0.211504608 Accuracy= 0.9410\n",
      "Train Epoch 15 Loss= 0.197295368 Accuracy= 0.9432\n",
      "Train Epoch 16 Loss= 0.185904428 Accuracy= 0.9474\n",
      "Train Epoch 17 Loss= 0.177183345 Accuracy= 0.9492\n",
      "Train Epoch 18 Loss= 0.169540569 Accuracy= 0.9532\n",
      "Train Epoch 19 Loss= 0.158353582 Accuracy= 0.9562\n",
      "Train Epoch 20 Loss= 0.152251393 Accuracy= 0.9578\n",
      "Train Epoch 21 Loss= 0.149277896 Accuracy= 0.9588\n",
      "Train Epoch 22 Loss= 0.141632378 Accuracy= 0.9610\n",
      "Train Epoch 23 Loss= 0.135360181 Accuracy= 0.9620\n",
      "Train Epoch 24 Loss= 0.130832493 Accuracy= 0.9642\n",
      "Train Epoch 25 Loss= 0.127291217 Accuracy= 0.9628\n",
      "Train Epoch 26 Loss= 0.121012770 Accuracy= 0.9660\n",
      "Train Epoch 27 Loss= 0.117189489 Accuracy= 0.9682\n",
      "Train Epoch 28 Loss= 0.113903515 Accuracy= 0.9672\n",
      "Train Epoch 29 Loss= 0.111476868 Accuracy= 0.9680\n",
      "Train Epoch 30 Loss= 0.107713401 Accuracy= 0.9696\n",
      "Train Epoch 31 Loss= 0.105668284 Accuracy= 0.9708\n",
      "Train Epoch 32 Loss= 0.103177980 Accuracy= 0.9710\n",
      "Train Epoch 33 Loss= 0.099943772 Accuracy= 0.9710\n",
      "Train Epoch 34 Loss= 0.098374411 Accuracy= 0.9712\n",
      "Train Epoch 35 Loss= 0.097074173 Accuracy= 0.9706\n",
      "Train Epoch 36 Loss= 0.096149735 Accuracy= 0.9708\n",
      "Train Epoch 37 Loss= 0.091559693 Accuracy= 0.9722\n",
      "Train Epoch 38 Loss= 0.090061255 Accuracy= 0.9734\n",
      "Train Epoch 39 Loss= 0.091029383 Accuracy= 0.9720\n",
      "Train Epoch 40 Loss= 0.087316535 Accuracy= 0.9732\n",
      "Train Epoch 41 Loss= 0.086763471 Accuracy= 0.9742\n",
      "Train Epoch 42 Loss= 0.084586829 Accuracy= 0.9744\n",
      "Train Epoch 43 Loss= 0.083694868 Accuracy= 0.9746\n",
      "Train Epoch 44 Loss= 0.082082681 Accuracy= 0.9750\n",
      "Train Epoch 45 Loss= 0.083126858 Accuracy= 0.9738\n",
      "Train Epoch 46 Loss= 0.080314852 Accuracy= 0.9742\n",
      "Train Epoch 47 Loss= 0.081525549 Accuracy= 0.9754\n",
      "Train Epoch 48 Loss= 0.078441195 Accuracy= 0.9748\n",
      "Train Epoch 49 Loss= 0.079669632 Accuracy= 0.9758\n",
      "Train Epoch 50 Loss= 0.078110397 Accuracy= 0.9754\n"
     ]
    }
   ],
   "source": [
    "train_epochs = 50  # 迭代次数\n",
    "learning_rate = 0.01  # 学习率\n",
    "\n",
    "# 梯度下降优化器 设置学习率和优化目标损失最小化\n",
    "optimizer = tf.train.GradientDescentOptimizer(learning_rate).minimize(loss_function)\n",
    "\n",
    "# 定义预测类别匹配情况\n",
    "correct_prediction = tf.equal(tf.argmax(pred, 1), tf.argmax(y, 1))\n",
    "\n",
    "# 定义准确率，将布尔值转化成浮点数，再求平均值\n",
    "accuracy = tf.reduce_mean(tf.cast(correct_prediction, tf.float32))\n",
    "\n",
    "sess = tf.Session()  # 建立会话\n",
    "init = tf.global_variables_initializer()  # 变量初始化\n",
    "sess.run(init)\n",
    "\n",
    "# 每个批次的大小，每次放入的大小，每次放入 50张图片 以矩阵的方式\n",
    "batch_size = 50\n",
    "\n",
    "# 计算一共有多少个批次，数量整除大小训练出有多少批次\n",
    "n_batch = mnist.train.num_examples // batch_size\n",
    "\n",
    "# 批次迭代训练\n",
    "for epoch in range(train_epochs):\n",
    "    for batch in range(n_batch):\n",
    "        xs, ys = mnist.train.next_batch(batch_size)\n",
    "        sess.run(optimizer, feed_dict={x: xs, y: ys})\n",
    "    # 批次训练完成之后，使用验证数据计算误差与准确率\n",
    "    loss, acc = sess.run([loss_function, accuracy],\n",
    "                         feed_dict={x: mnist.validation.images,\n",
    "                                    y: mnist.validation.labels})\n",
    "    # 显示训练信息\n",
    "    print(\"Train Epoch\", '%02d' % (epoch + 1), \"Loss=\", '{:.9f}'.format(loss), \"Accuracy=\", \"{:.4f}\".format(acc))"
   ]
  },
  {
   "cell_type": "markdown",
   "metadata": {},
   "source": [
    "# 5. 评估模型"
   ]
  },
  {
   "cell_type": "code",
   "execution_count": 6,
   "metadata": {},
   "outputs": [
    {
     "name": "stdout",
     "output_type": "stream",
     "text": [
      "Test Accuracy =  0.9737\n",
      "Validation Accuracy =  0.9754\n",
      "Train Accuracy =  0.98896366\n"
     ]
    }
   ],
   "source": [
    "# 测试集上评估模型预测的准确率\n",
    "accu_test = sess.run(accuracy, feed_dict={x: mnist.test.images, y: mnist.test.labels})\n",
    "print(\"Test Accuracy = \", accu_test)\n",
    "\n",
    "# 验证集上评估模型预测的准确率\n",
    "accu_validation = sess.run(accuracy, feed_dict={x: mnist.validation.images, y: mnist.validation.labels})\n",
    "print(\"Validation Accuracy = \", accu_validation)\n",
    "\n",
    "# 训练集上评估模型预测的准确率\n",
    "accu_train = sess.run(accuracy, feed_dict={x: mnist.train.images, y: mnist.train.labels})\n",
    "print(\"Train Accuracy = \", accu_train)"
   ]
  },
  {
   "cell_type": "markdown",
   "metadata": {},
   "source": [
    "# 6. 模型预测"
   ]
  },
  {
   "cell_type": "code",
   "execution_count": 7,
   "metadata": {},
   "outputs": [
    {
     "name": "stdout",
     "output_type": "stream",
     "text": [
      "[6 0 5 4 9 9 2 1 9 4]\n"
     ]
    }
   ],
   "source": [
    "# 转换pred预测结果独热编码格式为数字0-9\n",
    "prediction_result = sess.run(tf.argmax(pred, 1), feed_dict={x: mnist.test.images})\n",
    "\n",
    "# 查看第100-109张测试图片的预测结果\n",
    "print(prediction_result[100:110])"
   ]
  },
  {
   "cell_type": "code",
   "execution_count": 8,
   "metadata": {},
   "outputs": [
    {
     "data": {
      "image/png": "[encoded data removed]",
      "text/plain": [
       "<Figure size 720x864 with 10 Axes>"
      ]
     },
     "metadata": {},
     "output_type": "display_data"
    }
   ],
   "source": [
    "# 定义比对可视化函数\n",
    "def plot_images_labels_prediction(images,  # 图像列表\n",
    "                                  labels,  # 标签列表\n",
    "                                  prediction,  # 预测值列表\n",
    "                                  index,  # 开始显示的索引\n",
    "                                  num=5):  # 缺省一次显示5张\n",
    "    fig = plt.gcf()  # 获取当前图表，get current figure\n",
    "    fig.set_size_inches(10, 12)  # 1英寸等于2.54cm\n",
    "\n",
    "    if num > 25:  # 最多显示25张图片\n",
    "        num = 25\n",
    "\n",
    "    for i in range(0, num):\n",
    "        ax = plt.subplot(5, 5, i + 1)  # 获取当前要处理的图片\n",
    "        ax.imshow(np.reshape(images[index], (28, 28)), cmap='binary')  # 显示第index个图像\n",
    "        title = 'label = ' + str(np.argmax(labels[index]))  # 显示标签的标题\n",
    "        if len(prediction) > 0:  # 如果有预测结果的话，添加显示预测的标题\n",
    "            title += ',predict = ' + str(prediction[index])\n",
    "        ax.set_title(title, fontsize=10)  # 显示图上的标题\n",
    "        # 不显示坐标轴\n",
    "        ax.set_xticks([])\n",
    "        ax.set_yticks([])\n",
    "        index += 1\n",
    "    plt.show()\n",
    "\n",
    "\n",
    "# 可视化第200-209张测试图片的预测结果对比\n",
    "plot_images_labels_prediction(mnist.test.images,\n",
    "                              mnist.test.labels,\n",
    "                              prediction_result,\n",
    "                              200, 10)"
   ]
  }
 ],
 "metadata": {
  "kernelspec": {
   "display_name": "Python 3",
   "language": "python",
   "name": "python3"
  },
  "language_info": {
   "codemirror_mode": {
    "name": "ipython",
    "version": 3
   },
   "file_extension": ".py",
   "mimetype": "text/x-python",
   "name": "python",
   "nbconvert_exporter": "python",
   "pygments_lexer": "ipython3",
   "version": "3.7.2"
  }
 },
 "nbformat": 4,
 "nbformat_minor": 2
}

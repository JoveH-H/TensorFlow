{
 "cells": [
  {
   "cell_type": "markdown",
   "metadata": {},
   "source": [
    "# 1. ResNet残差网络"
   ]
  },
  {
   "cell_type": "markdown",
   "metadata": {},
   "source": [
    "非常深的神经网络是很难训练的，因为存在梯度消失和梯度爆炸问题\n",
    "\n",
    "可以利用跳跃连接构建能够训练深度网络的ResNets\n",
    "\n",
    "和利用dropout 正则化防止过拟合"
   ]
  },
  {
   "cell_type": "code",
   "execution_count": 1,
   "metadata": {},
   "outputs": [
    {
     "name": "stdout",
     "output_type": "stream",
     "text": [
      "WARNING:tensorflow:From <ipython-input-1-3c98a8d00530>:7: read_data_sets (from tensorflow.contrib.learn.python.learn.datasets.mnist) is deprecated and will be removed in a future version.\n",
      "Instructions for updating:\n",
      "Please use alternatives such as official/mnist/dataset.py from tensorflow/models.\n",
      "WARNING:tensorflow:From c:\\users\\dell\\appdata\\local\\programs\\python\\python37\\lib\\site-packages\\tensorflow\\contrib\\learn\\python\\learn\\datasets\\mnist.py:260: maybe_download (from tensorflow.contrib.learn.python.learn.datasets.base) is deprecated and will be removed in a future version.\n",
      "Instructions for updating:\n",
      "Please write your own downloading logic.\n",
      "WARNING:tensorflow:From c:\\users\\dell\\appdata\\local\\programs\\python\\python37\\lib\\site-packages\\tensorflow\\contrib\\learn\\python\\learn\\datasets\\mnist.py:262: extract_images (from tensorflow.contrib.learn.python.learn.datasets.mnist) is deprecated and will be removed in a future version.\n",
      "Instructions for updating:\n",
      "Please use tf.data to implement this functionality.\n",
      "Extracting ../data/train-images-idx3-ubyte.gz\n",
      "WARNING:tensorflow:From c:\\users\\dell\\appdata\\local\\programs\\python\\python37\\lib\\site-packages\\tensorflow\\contrib\\learn\\python\\learn\\datasets\\mnist.py:267: extract_labels (from tensorflow.contrib.learn.python.learn.datasets.mnist) is deprecated and will be removed in a future version.\n",
      "Instructions for updating:\n",
      "Please use tf.data to implement this functionality.\n",
      "Extracting ../data/train-labels-idx1-ubyte.gz\n",
      "WARNING:tensorflow:From c:\\users\\dell\\appdata\\local\\programs\\python\\python37\\lib\\site-packages\\tensorflow\\contrib\\learn\\python\\learn\\datasets\\mnist.py:110: dense_to_one_hot (from tensorflow.contrib.learn.python.learn.datasets.mnist) is deprecated and will be removed in a future version.\n",
      "Instructions for updating:\n",
      "Please use tf.one_hot on tensors.\n",
      "Extracting ../data/t10k-images-idx3-ubyte.gz\n",
      "Extracting ../data/t10k-labels-idx1-ubyte.gz\n",
      "WARNING:tensorflow:From c:\\users\\dell\\appdata\\local\\programs\\python\\python37\\lib\\site-packages\\tensorflow\\contrib\\learn\\python\\learn\\datasets\\mnist.py:290: DataSet.__init__ (from tensorflow.contrib.learn.python.learn.datasets.mnist) is deprecated and will be removed in a future version.\n",
      "Instructions for updating:\n",
      "Please use alternatives such as official/mnist/dataset.py from tensorflow/models.\n",
      "训练集数量： 55000\n",
      "验证集数量： 5000\n",
      "测试集数量： 10000\n"
     ]
    }
   ],
   "source": [
    "import tensorflow as tf\n",
    "from tensorflow.examples.tutorials.mnist import input_data\n",
    "import matplotlib.pyplot as plt\n",
    "import numpy as np\n",
    "\n",
    "# 载入数据集\n",
    "mnist = input_data.read_data_sets(\"../data/\", one_hot=True)\n",
    "\n",
    "# 显示数据集数量\n",
    "print(\"训练集数量：\", mnist.train.num_examples)\n",
    "print(\"验证集数量：\", mnist.validation.num_examples)\n",
    "print(\"测试集数量：\", mnist.test.num_examples)"
   ]
  },
  {
   "cell_type": "markdown",
   "metadata": {},
   "source": [
    "# 2. 数据读取"
   ]
  },
  {
   "cell_type": "markdown",
   "metadata": {},
   "source": [
    "利用网上的 MNIST 数据集(http://yann.lecun.com/exdb/mnist/)获取数据集压缩文件（切勿解压）：\n",
    "\n",
    "train-images-idx3-ubyte.gz --- 6万张28x28大小的训练数字图像\n",
    "\n",
    "train-labels-idx1-ubyte.gz --- 6万张训练图像的数字标记\n",
    "\n",
    "t10k-images-idx3-ubyte.gz  --- 1万张28x28大小的测试数字图像\n",
    "\n",
    "t10k-labels-idx1-ubyte.gz  --- 1万张测试图像的数字标记"
   ]
  },
  {
   "cell_type": "code",
   "execution_count": 2,
   "metadata": {},
   "outputs": [
    {
     "name": "stdout",
     "output_type": "stream",
     "text": [
      "训练图像大小： (55000, 784)\n",
      "训练标签大小： (55000, 10)\n"
     ]
    }
   ],
   "source": [
    "# 显示数据集大小\n",
    "print(\"训练图像大小：\", mnist.train.images.shape)\n",
    "print(\"训练标签大小：\", mnist.train.labels.shape)"
   ]
  },
  {
   "cell_type": "code",
   "execution_count": 3,
   "metadata": {},
   "outputs": [
    {
     "data": {
      "image/png": "[encoded data removed]",
      "text/plain": [
       "<Figure size 432x288 with 1 Axes>"
      ]
     },
     "metadata": {
      "needs_background": "light"
     },
     "output_type": "display_data"
    },
    {
     "name": "stdout",
     "output_type": "stream",
     "text": [
      "[0. 0. 0. 0. 1. 0. 0. 0. 0. 0.]\n"
     ]
    }
   ],
   "source": [
    "# 可视化图像\n",
    "def plot_image(image):\n",
    "    plt.imshow(image.reshape(28, 28), cmap='binary')\n",
    "    plt.show()\n",
    "\n",
    "\n",
    "# 可视化第二张训练图像\n",
    "plot_image(mnist.train.images[2])\n",
    "\n",
    "# 可视化第二张图像的标签\n",
    "print(mnist.train.labels[2])"
   ]
  },
  {
   "cell_type": "markdown",
   "metadata": {},
   "source": [
    "# 3. 构建模型"
   ]
  },
  {
   "cell_type": "code",
   "execution_count": 4,
   "metadata": {},
   "outputs": [
    {
     "name": "stdout",
     "output_type": "stream",
     "text": [
      "WARNING:tensorflow:From c:\\users\\dell\\appdata\\local\\programs\\python\\python37\\lib\\site-packages\\tensorflow\\python\\framework\\op_def_library.py:263: colocate_with (from tensorflow.python.framework.ops) is deprecated and will be removed in a future version.\n",
      "Instructions for updating:\n",
      "Colocations handled automatically by placer.\n"
     ]
    }
   ],
   "source": [
    "# 定义训练数据的占位符， x是784个像素点的特征值， y是10分类的标签值\n",
    "x = tf.placeholder(tf.float32, [None, 784], name=\"X\")\n",
    "y = tf.placeholder(tf.float32, [None, 10], name=\"Y\")\n",
    "\n",
    "# 为了使用卷积层，需把x变成一个4d向量，其第2、第3维对应图片的宽、高，最后一维代表图片的颜色通道数\n",
    "x_image = tf.reshape(x, [-1, 28, 28, 1])\n",
    "\n",
    "\n",
    "# 权重W 初始化 从标准差0.1的截断正态分布中输出随机值\n",
    "def weight_variable(shape):\n",
    "    initial = tf.truncated_normal(shape, stddev=0.1)\n",
    "    return tf.Variable(initial)\n",
    "\n",
    "\n",
    "# 权重b 初始化 0.1\n",
    "def bias_variable(shape):\n",
    "    initial = tf.constant(0.1, shape=shape)\n",
    "    return tf.Variable(initial)\n",
    "\n",
    "\n",
    "# 定义1步长的 same卷积\n",
    "def conv2d(x, W):\n",
    "    return tf.nn.conv2d(x, W, strides=[1, 1, 1, 1], padding='SAME')\n",
    "\n",
    "\n",
    "# 定义步长为2 大小2x2的 max pooling\n",
    "def max_pool_2x2(x):\n",
    "    return tf.nn.max_pool(x, ksize=[1, 2, 2, 1], strides=[1, 2, 2, 1], padding='SAME')\n",
    "\n",
    "\n",
    "def res_block(x, kernal_size_x, kernal_size_y, channel_in, channel_out):\n",
    "    X_shortcut = x\n",
    "    channel_out_half = int(channel_out / 2)\n",
    "    # 第一卷积层\n",
    "    with tf.variable_scope(\"res_conv1\"):\n",
    "        res_w_conv1 = weight_variable([kernal_size_x, kernal_size_y, channel_in, channel_out_half])\n",
    "        res_b_conv1 = bias_variable([channel_out_half])\n",
    "        res_h_conv1 = tf.nn.relu(conv2d(x, res_w_conv1) + res_b_conv1)\n",
    "    # 第二卷积层\n",
    "    with tf.variable_scope(\"res_conv2\"):\n",
    "        res_w_conv2 = weight_variable([kernal_size_x, kernal_size_y, channel_out_half, channel_out])\n",
    "        res_b_conv2 = bias_variable([channel_out])\n",
    "        res_h_conv2 = tf.nn.relu(conv2d(res_h_conv1, res_w_conv2) + res_b_conv2)\n",
    "    # 残差块\n",
    "    with tf.variable_scope(\"shortcut\"):\n",
    "        # 输入层在线性激活之后，维持通道数与第二卷积层相同\n",
    "        res_w_shortcut = weight_variable([1, 1, channel_in, channel_out])\n",
    "        res_b_shortcut = bias_variable([channel_out])\n",
    "        X_shortcut = conv2d(X_shortcut, res_w_shortcut) + res_b_shortcut\n",
    "        # 在ReLU激活之前，与第二卷积层相加，产生了一个残差块\n",
    "        res_add = tf.add(res_h_conv2, X_shortcut)\n",
    "        res_b_shortcut = bias_variable([channel_out])\n",
    "        res_add_result = tf.nn.relu(res_add + res_b_shortcut)\n",
    "\n",
    "    return res_add_result\n",
    "\n",
    "\n",
    "# 第一个残差块\n",
    "h_res1 = res_block(x_image, 3, 3, 1, 32)\n",
    "# 第一层池化\n",
    "h_pool1 = max_pool_2x2(h_res1)\n",
    "# 进行局部响应归一化操作\n",
    "h1 = tf.nn.lrn(h_pool1, 4, bias=1.0, alpha=0.001 / 9.0, beta=0.75)\n",
    "\n",
    "# 第二个残差块\n",
    "h_res2 = res_block(h1, 5, 5, 32, 64)\n",
    "# 第二层池化\n",
    "h_pool2 = max_pool_2x2(h_res2)\n",
    "# 进行局部响应归一化操作\n",
    "h2 = tf.nn.lrn(h_pool2, 4, bias=1.0, alpha=0.001 / 9.0, beta=0.75)\n",
    "h2_flat = tf.reshape(h2, shape=[-1, 7 * 7 * 64])  # 重新展开\n",
    "\n",
    "# 第三阶段全连接层1\n",
    "W_fc1 = weight_variable([7 * 7 * 64, 1024])\n",
    "b_fc1 = bias_variable([1024])\n",
    "h_fc1 = tf.nn.relu(tf.matmul(h2_flat, W_fc1) + b_fc1)\n",
    "\n",
    "# 第四阶段dropout层\n",
    "dropout_rate = tf.placeholder(\"float\")\n",
    "h_fc1_drop = tf.nn.dropout(h_fc1, rate=dropout_rate)\n",
    "\n",
    "# 第五阶段全连接层2\n",
    "W_fc2 = weight_variable([1024, 10])\n",
    "b_fc2 = bias_variable([10])\n",
    "forward = tf.matmul(h_fc1_drop, W_fc2) + b_fc2\n",
    "pred = tf.nn.softmax(forward)\n",
    "\n",
    "train_epochs = 20  # 迭代次数\n",
    "learning_rate = 1e-3  # 学习率\n",
    "\n",
    "# 定义损失函数\n",
    "with tf.name_scope(\"LossFunction\"):\n",
    "    loss_function = tf.reduce_mean(tf.nn.softmax_cross_entropy_with_logits_v2(logits=forward, labels=y))"
   ]
  },
  {
   "cell_type": "markdown",
   "metadata": {},
   "source": [
    "# 4. 训练模型"
   ]
  },
  {
   "cell_type": "code",
   "execution_count": 5,
   "metadata": {},
   "outputs": [
    {
     "name": "stdout",
     "output_type": "stream",
     "text": [
      "Train Epoch 01 Loss= 0.103925243 Accuracy= 0.9712\n",
      "Train Epoch 02 Loss= 0.068904892 Accuracy= 0.9808\n",
      "Train Epoch 03 Loss= 0.052916307 Accuracy= 0.9846\n",
      "Train Epoch 04 Loss= 0.047417201 Accuracy= 0.9878\n",
      "Train Epoch 05 Loss= 0.045173906 Accuracy= 0.9876\n",
      "Train Epoch 06 Loss= 0.041291334 Accuracy= 0.9880\n",
      "Train Epoch 07 Loss= 0.040540095 Accuracy= 0.9882\n",
      "Train Epoch 08 Loss= 0.044096928 Accuracy= 0.9872\n",
      "Train Epoch 09 Loss= 0.044790849 Accuracy= 0.9892\n",
      "Train Epoch 10 Loss= 0.036397565 Accuracy= 0.9898\n",
      "Train Epoch 11 Loss= 0.043122139 Accuracy= 0.9884\n",
      "Train Epoch 12 Loss= 0.037767597 Accuracy= 0.9896\n",
      "Train Epoch 13 Loss= 0.035879690 Accuracy= 0.9890\n",
      "Train Epoch 14 Loss= 0.028891217 Accuracy= 0.9916\n",
      "Train Epoch 15 Loss= 0.041857451 Accuracy= 0.9914\n",
      "Train Epoch 16 Loss= 0.036687627 Accuracy= 0.9908\n",
      "Train Epoch 17 Loss= 0.031272657 Accuracy= 0.9926\n",
      "Train Epoch 18 Loss= 0.041658025 Accuracy= 0.9912\n",
      "Train Epoch 19 Loss= 0.031089630 Accuracy= 0.9920\n",
      "Train Epoch 20 Loss= 0.033109900 Accuracy= 0.9936\n"
     ]
    }
   ],
   "source": [
    "# Adam优化器 设置学习率和优化目标损失最小化\n",
    "optimizer = tf.train.AdamOptimizer(learning_rate).minimize(loss_function)\n",
    "\n",
    "# 定义预测类别匹配情况\n",
    "correct_prediction = tf.equal(tf.argmax(pred, 1), tf.argmax(y, 1))\n",
    "\n",
    "# 定义准确率，将布尔值转化成浮点数，再求平均值\n",
    "accuracy = tf.reduce_mean(tf.cast(correct_prediction, \"float\"))\n",
    "\n",
    "sess = tf.Session()  # 建立会话\n",
    "init = tf.global_variables_initializer()  # 变量初始化\n",
    "sess.run(init)\n",
    "\n",
    "# 每个批次的大小，每次放入的大小，每次放入 100张图片 以矩阵的方式\n",
    "batch_size = 100\n",
    "\n",
    "# 计算一共有多少个批次，数量整除大小训练出有多少批次\n",
    "n_batch = mnist.train.num_examples // batch_size\n",
    "\n",
    "for epoch in range(train_epochs):\n",
    "    for batch in range(n_batch):\n",
    "        xs, ys = mnist.train.next_batch(batch_size)\n",
    "        sess.run(optimizer, feed_dict={x: xs, y: ys, dropout_rate: 0.5})\n",
    "        # 批次训练完成之后，使用验证数据计算误差与准确率\n",
    "    loss, acc = sess.run([loss_function, accuracy],\n",
    "                         feed_dict={x: mnist.validation.images,\n",
    "                                    y: mnist.validation.labels,\n",
    "                                    dropout_rate: 0})\n",
    "    # 显示训练信息\n",
    "    print(\"Train Epoch\", '%02d' % (epoch + 1), \"Loss=\", '{:.9f}'.format(loss),\n",
    "          \"Accuracy=\", \"{:.4f}\".format(acc))"
   ]
  },
  {
   "cell_type": "markdown",
   "metadata": {},
   "source": [
    "# 5. 评估模型"
   ]
  },
  {
   "cell_type": "code",
   "execution_count": 6,
   "metadata": {},
   "outputs": [
    {
     "name": "stdout",
     "output_type": "stream",
     "text": [
      "Test Accuracy =  0.9925\n",
      "Validation Accuracy =  0.9936\n"
     ]
    }
   ],
   "source": [
    "# 测试集上评估模型预测的准确率\n",
    "accu_test = sess.run(accuracy, feed_dict={x: mnist.test.images,\n",
    "                                          y: mnist.test.labels,\n",
    "                                          dropout_rate: 0})\n",
    "print(\"Test Accuracy = \", accu_test)\n",
    "\n",
    "# 验证集上评估模型预测的准确率\n",
    "accu_validation = sess.run(accuracy, feed_dict={x: mnist.validation.images,\n",
    "                                                y: mnist.validation.labels,\n",
    "                                                dropout_rate: 0})\n",
    "print(\"Validation Accuracy = \", accu_validation)"
   ]
  },
  {
   "cell_type": "markdown",
   "metadata": {},
   "source": [
    "# 6. 模型预测"
   ]
  },
  {
   "cell_type": "code",
   "execution_count": 7,
   "metadata": {},
   "outputs": [
    {
     "name": "stdout",
     "output_type": "stream",
     "text": [
      "[3 9 5 2 1 3 1 3 6 5]\n"
     ]
    }
   ],
   "source": [
    "# 转换pred预测结果独热编码格式为数字0-9\n",
    "prediction_result = sess.run(tf.argmax(pred, 1), feed_dict={x: mnist.test.images, dropout_rate: 0})\n",
    "\n",
    "# 查看第500-509张测试图片的预测结果\n",
    "print(prediction_result[500:510])"
   ]
  },
  {
   "cell_type": "code",
   "execution_count": 8,
   "metadata": {},
   "outputs": [
    {
     "data": {
      "image/png": "[encoded data removed]",
      "text/plain": [
       "<Figure size 720x864 with 10 Axes>"
      ]
     },
     "metadata": {},
     "output_type": "display_data"
    }
   ],
   "source": [
    "# 定义比对可视化函数\n",
    "def plot_images_labels_prediction(images,  # 图像列表\n",
    "                                  labels,  # 标签列表\n",
    "                                  prediction,  # 预测值列表\n",
    "                                  index,  # 开始显示的索引\n",
    "                                  num=5):  # 缺省一次显示5张\n",
    "    fig = plt.gcf()  # 获取当前图表，get current figure\n",
    "    fig.set_size_inches(10, 12)  # 1英寸等于2.54cm\n",
    "\n",
    "    if num > 25:  # 最多显示25张图片\n",
    "        num = 25\n",
    "\n",
    "    for i in range(0, num):\n",
    "        ax = plt.subplot(5, 5, i + 1)  # 获取当前要处理的图片\n",
    "        ax.imshow(np.reshape(images[index], (28, 28)), cmap='binary')  # 显示第index个图像\n",
    "        title = 'label = ' + str(np.argmax(labels[index]))  # 显示标签的标题\n",
    "        if len(prediction) > 0:  # 如果有预测结果的话，添加显示预测的标题\n",
    "            title += ',predict = ' + str(prediction[index])\n",
    "        ax.set_title(title, fontsize=10)  # 显示图上的标题\n",
    "        # 不显示坐标轴\n",
    "        ax.set_xticks([])\n",
    "        ax.set_yticks([])\n",
    "        index += 1\n",
    "    plt.show()\n",
    "\n",
    "\n",
    "# 可视化第500-509张测试图片的预测结果对比\n",
    "plot_images_labels_prediction(mnist.test.images,\n",
    "                              mnist.test.labels,\n",
    "                              prediction_result,\n",
    "                              500, 10)"
   ]
  }
 ],
 "metadata": {
  "kernelspec": {
   "display_name": "Python 3",
   "language": "python",
   "name": "python3"
  },
  "language_info": {
   "codemirror_mode": {
    "name": "ipython",
    "version": 3
   },
   "file_extension": ".py",
   "mimetype": "text/x-python",
   "name": "python",
   "nbconvert_exporter": "python",
   "pygments_lexer": "ipython3",
   "version": "3.7.2"
  }
 },
 "nbformat": 4,
 "nbformat_minor": 2
}

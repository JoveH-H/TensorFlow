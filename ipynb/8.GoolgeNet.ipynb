{
 "cells": [
  {
   "cell_type": "markdown",
   "metadata": {},
   "source": [
    "# 1. Inception块\n",
    "\n",
    "可以利用Inception块构建经典网络InceptionNet，也就是GoolgeNet\n",
    "\n",
    "那么，以CIFAR-10 数据集的分类为例，采用GoolgeNet模型来解决问题"
   ]
  },
  {
   "cell_type": "markdown",
   "metadata": {},
   "source": [
    "# 2. 数据读取\n",
    "\n",
    "CIFAR-10 数据集的分类是机器学习中一个公开的基准测试问题\n",
    "\n",
    "其任务是对一组32x32RGB的图像进行分类，这些图像涵盖了10个类别：\n",
    "飞机， 汽车， 鸟， 猫， 鹿， 狗， 青蛙， 马， 船以及卡车\n",
    "\n",
    "利用网上的 CIFAR-10 数据集 获取数据集压缩文件，这里使用的是python版本 CIFAR-10 python version"
   ]
  },
  {
   "cell_type": "code",
   "execution_count": 1,
   "metadata": {},
   "outputs": [
    {
     "name": "stdout",
     "output_type": "stream",
     "text": [
      "Data file already exists.\n",
      "Directory already exists.\n"
     ]
    }
   ],
   "source": [
    "import tensorflow as tf\n",
    "import matplotlib.pyplot as plt\n",
    "import numpy as np\n",
    "import os\n",
    "import urllib.request\n",
    "import tarfile\n",
    "import pickle as p\n",
    "from sklearn.preprocessing import OneHotEncoder\n",
    "\n",
    "# 下载 cifar10\n",
    "url = 'https://www.cs.toronto.edu/-kriz/cifar-10-python.tar.gz'\n",
    "filepath = '../data/cifar-10-python.tar.gz'\n",
    "if not os.path.isfile(filepath):\n",
    "    result = urllib.request.urlretrieve(url, filepath)\n",
    "    print('downloaded', result)\n",
    "else:\n",
    "    print('Data file already exists.')\n",
    "\n",
    "# 解压 cifar10\n",
    "if not os.path.exists(\"../data/cifar-10-batches-py\"):\n",
    "    tfile = tarfile.open(\"../data/cifar-10-python.tar.gz\", 'r:gz')\n",
    "    result = tfile.extractall(\"../data/\")\n",
    "    print('Extracted to ./../data/cifar-10-batches-py/')\n",
    "else:\n",
    "    print('Directory already exists.')"
   ]
  },
  {
   "cell_type": "markdown",
   "metadata": {},
   "source": [
    "加载数据集"
   ]
  },
  {
   "cell_type": "code",
   "execution_count": 2,
   "metadata": {},
   "outputs": [
    {
     "name": "stdout",
     "output_type": "stream",
     "text": [
      "loading ../data/cifar-10-batches-py/data_batch_1\n",
      "loading ../data/cifar-10-batches-py/data_batch_2\n",
      "loading ../data/cifar-10-batches-py/data_batch_3\n",
      "loading ../data/cifar-10-batches-py/data_batch_4\n",
      "loading ../data/cifar-10-batches-py/data_batch_5\n",
      "finished loadding CIFAR-10 data\n"
     ]
    }
   ],
   "source": [
    "def load_CIFAR_batch(filename):\n",
    "    \"\"\"oad single batch of cifar\"\"\"\n",
    "    with open(filename, 'rb')as f:\n",
    "        # 一个样本由标签和图像数据组成\n",
    "        # <1 xlabel><3072 xpixel> (3072-32x32x3)\n",
    "        data_dict = p.load(f, encoding='bytes')\n",
    "        images = data_dict[b'data']\n",
    "        labels = data_dict[b'labels']\n",
    "        # 把原始数据结构调整为: BCWH\n",
    "        images = images.reshape(10000, 3, 32, 32)\n",
    "        # tensorflow处理图像数据的结构: BWHC\n",
    "        # #把通道数据C移动到最后一个维度\n",
    "        images = images.transpose(0, 2, 3, 1)\n",
    "        labels = np.array(labels)\n",
    "        return images, labels\n",
    "\n",
    "\n",
    "def load_CIFAR_data(data_dir):\n",
    "    \"\"\"load CIFAR data\"\"\"\n",
    "    images_train = []\n",
    "    labels_train = []\n",
    "    for i in range(5):\n",
    "        f = os.path.join(data_dir, 'data_batch_{0}'.format(i + 1))\n",
    "        print('loading', f)\n",
    "        # 调用loadCIFARbatch(获得批量的图像及其对应的标签\n",
    "        image_batch, label_batch = load_CIFAR_batch(f)\n",
    "        images_train.append(image_batch)\n",
    "        labels_train.append(label_batch)\n",
    "        Xtrain = np.concatenate(images_train)\n",
    "        Ytrain = np.concatenate(labels_train)\n",
    "        del image_batch, label_batch\n",
    "    Xtest, Ytest = load_CIFAR_batch(os.path.join(data_dir, 'test_batch'))\n",
    "    print('finished loadding CIFAR-10 data')\n",
    "    # 返回训练集的图象和标签，测试集的图像和标签\n",
    "    return Xtrain, Ytrain, Xtest, Ytest\n",
    "\n",
    "\n",
    "data_dir = '../data/cifar-10-batches-py/'\n",
    "Xtrain, Ytrain, Xtest, Ytest = load_CIFAR_data(data_dir)"
   ]
  },
  {
   "cell_type": "markdown",
   "metadata": {},
   "source": [
    "查看数据集数量"
   ]
  },
  {
   "cell_type": "code",
   "execution_count": 3,
   "metadata": {},
   "outputs": [
    {
     "name": "stdout",
     "output_type": "stream",
     "text": [
      "training data shape: (50000, 32, 32, 3)\n",
      "training labels shape: (50000,)\n",
      "test data shape: (10000, 32, 32, 3)\n",
      "test labels shape: (10000,)\n"
     ]
    }
   ],
   "source": [
    "print('training data shape:', Xtrain.shape)\n",
    "print('training labels shape:', Ytrain.shape)\n",
    "print('test data shape:', Xtest.shape)\n",
    "print('test labels shape:', Ytest.shape)"
   ]
  },
  {
   "cell_type": "markdown",
   "metadata": {},
   "source": [
    "定义标签字典"
   ]
  },
  {
   "cell_type": "code",
   "execution_count": 4,
   "metadata": {},
   "outputs": [],
   "source": [
    "label_dict = {0: \"airplane\", 1: \"automobile\", 2: \"bird\", 3: \"cat\", 4: \"deer\",\n",
    "              5: \"dog\", 6: \"frog\", 7: \"horse\", 8: \"ship\", 9: \"truck\"}"
   ]
  },
  {
   "cell_type": "markdown",
   "metadata": {},
   "source": [
    "查看第11张图片并查看对应的label，虽然模模糊糊，但还可以猜出来是十个类别中的鹿"
   ]
  },
  {
   "cell_type": "code",
   "execution_count": 5,
   "metadata": {},
   "outputs": [
    {
     "data": {
      "image/png": "[encoded data removed]",
      "text/plain": [
       "<Figure size 432x288 with 1 Axes>"
      ]
     },
     "metadata": {
      "needs_background": "light"
     },
     "output_type": "display_data"
    },
    {
     "name": "stdout",
     "output_type": "stream",
     "text": [
      "Xtrain[10] label: deer\n"
     ]
    }
   ],
   "source": [
    "imshow_num = 10\n",
    "plt.imshow(Xtrain[imshow_num])\n",
    "plt.show()\n",
    "print(\"Xtrain[{0}] label:\".format(imshow_num), label_dict[Ytrain[imshow_num]])"
   ]
  },
  {
   "cell_type": "markdown",
   "metadata": {},
   "source": [
    "图片进行数字标准化并对比数据"
   ]
  },
  {
   "cell_type": "code",
   "execution_count": 6,
   "metadata": {},
   "outputs": [
    {
     "name": "stdout",
     "output_type": "stream",
     "text": [
      "Xtrain[0][0][0] data: [59 62 63]\n",
      "Xtrain_norm[0][0][0] data: [-1.0526042 -0.9816644 -0.7625441]\n"
     ]
    }
   ],
   "source": [
    "Xtrain_mean0 = np.mean(Xtrain.astype('float32')[:, :, :, 0])\n",
    "Xtrain_mean1 = np.mean(Xtrain.astype('float32')[:, :, :, 1])\n",
    "Xtrain_mean2 = np.mean(Xtrain.astype('float32')[:, :, :, 2])\n",
    "Xtrain_mean = [Xtrain_mean0, Xtrain_mean1, Xtrain_mean2]\n",
    "\n",
    "Xtrain_std0 = np.std(Xtrain.astype('float32')[:, :, :, 0])\n",
    "Xtrain_std1 = np.std(Xtrain.astype('float32')[:, :, :, 1])\n",
    "Xtrain_std2 = np.std(Xtrain.astype('float32')[:, :, :, 2])\n",
    "Xtrain_std = [Xtrain_std0, Xtrain_std1, Xtrain_std2]\n",
    "\n",
    "\n",
    "def data_norm(x, x_mean, x_std):\n",
    "    x_norm = x.astype('float32')\n",
    "    x_norm[:, :, :, 0] = (x_norm[:, :, :, 0] - x_mean[0]) / x_std[0]\n",
    "    x_norm[:, :, :, 1] = (x_norm[:, :, :, 1] - x_mean[1]) / x_std[1]\n",
    "    x_norm[:, :, :, 2] = (x_norm[:, :, :, 2] - x_mean[2]) / x_std[2]\n",
    "    return x_norm\n",
    "\n",
    "\n",
    "Xtrain_norm = data_norm(Xtrain, Xtrain_mean, Xtrain_std)\n",
    "Xtest_norm = data_norm(Xtest, Xtrain_mean, Xtrain_std)\n",
    "\n",
    "# 对比图像数据\n",
    "print(\"Xtrain[0][0][0] data:\", Xtrain[0][0][0])\n",
    "print(\"Xtrain_norm[0][0][0] data:\", Xtrain_norm[0][0][0])"
   ]
  },
  {
   "cell_type": "markdown",
   "metadata": {},
   "source": [
    "标签数据处理并对比数据"
   ]
  },
  {
   "cell_type": "code",
   "execution_count": 7,
   "metadata": {},
   "outputs": [
    {
     "name": "stdout",
     "output_type": "stream",
     "text": [
      "Ytrain[10] data: 4\n",
      "Ytrain_onehot[10] data: [0. 0. 0. 0. 1. 0. 0. 0. 0. 0.]\n"
     ]
    }
   ],
   "source": [
    "encoder = OneHotEncoder(sparse=False, categories='auto')\n",
    "yy = [[0], [1], [2], [3], [4], [5], [6], [7], [8], [9]]\n",
    "encoder.fit(yy)\n",
    "Ytrain_reshape = Ytrain.reshape(-1, 1)\n",
    "Ytrain_onehot = encoder.transform(Ytrain_reshape)\n",
    "Ytest_reshape = Ytest.reshape(-1, 1)\n",
    "Ytest_onehot = encoder.transform(Ytest_reshape)\n",
    "\n",
    "print(\"Ytrain[10] data:\", Ytrain[10])\n",
    "print(\"Ytrain_onehot[10] data:\", Ytrain_onehot[10])"
   ]
  },
  {
   "cell_type": "markdown",
   "metadata": {},
   "source": [
    "# 3.构建模型"
   ]
  },
  {
   "cell_type": "code",
   "execution_count": 8,
   "metadata": {},
   "outputs": [],
   "source": [
    "# 定义训练数据的占位符， x是32*32*3个像素点的特征值， y是10分类的标签值\n",
    "x = tf.placeholder(tf.float32, [None, 32, 32, 3], name=\"X\")\n",
    "y = tf.placeholder(tf.float32, [None, 10], name=\"Y\")\n",
    "\n",
    "# 为了使用卷积层，需把x变成一个4d向量，其第2、第3维对应图片的宽、高，最后一维代表图片的颜色通道数\n",
    "x_image = tf.reshape(x, [-1, 32, 32, 3])\n",
    "\n",
    "\n",
    "# 权重W 初始化 从标准差0.1的截断正态分布中输出随机值\n",
    "def weight_variable(shape):\n",
    "    initial = tf.truncated_normal(shape, stddev=0.1)\n",
    "    return tf.Variable(initial)\n",
    "\n",
    "\n",
    "# 权重b 初始化 0.1\n",
    "def bias_variable(shape):\n",
    "    initial = tf.constant(0.1, shape=shape)\n",
    "    return tf.Variable(initial)\n",
    "\n",
    "\n",
    "# 定义1步长的 same卷积\n",
    "def conv2d(x, W):\n",
    "    return tf.nn.conv2d(x, W, strides=[1, 1, 1, 1], padding='SAME')\n",
    "\n",
    "\n",
    "# 定义1步长的 valid卷积\n",
    "def conv2d_v(x, W):\n",
    "    return tf.nn.conv2d(x, W, strides=[1, 1, 1, 1], padding='VALID')\n",
    "\n",
    "\n",
    "# 定义2步长的 same卷积\n",
    "def conv2d_2(x, W):\n",
    "    return tf.nn.conv2d(x, W, strides=[1, 2, 2, 1], padding='SAME')\n",
    "\n",
    "\n",
    "# 定义步长为1 大小3x3的 max pooling\n",
    "def max_pool_3x3(x):\n",
    "    return tf.nn.max_pool(x, ksize=[1, 3, 3, 1], strides=[1, 1, 1, 1], padding='SAME')\n",
    "\n",
    "\n",
    "# 定义步长为2 大小3x3的 max pooling\n",
    "def max_pool_3x3_2(x):\n",
    "    return tf.nn.max_pool(x, ksize=[1, 3, 3, 1], strides=[1, 2, 2, 1], padding='SAME')\n",
    "\n",
    "\n",
    "# 定义步长为3 大小5x5的 avg pooling\n",
    "def avg_pool_5x5(x):\n",
    "    return tf.nn.avg_pool(x, ksize=[1, 5, 5, 1], strides=[1, 3, 3, 1], padding='VALID')\n",
    "\n",
    "\n",
    "# 定义步长为1 大小7x7的 avg pooling\n",
    "def avg_pool_7x7(x):\n",
    "    return tf.nn.avg_pool(x, ksize=[1, 7, 7, 1], strides=[1, 1, 1, 1], padding='VALID')\n",
    "\n",
    "\n",
    "def inception(x, channel_in, filters_num):\n",
    "    # 第一分支 conv 1x1+1s\n",
    "    with tf.variable_scope(\"branch1\"):\n",
    "        branch1_w_conv1 = weight_variable([1, 1, channel_in, filters_num[0]])\n",
    "        branch1_b_conv1 = bias_variable([filters_num[0]])\n",
    "        branch1_h_conv1 = tf.nn.relu(conv2d(x, branch1_w_conv1) + branch1_b_conv1)\n",
    "    # 第二分支 conv 1x1+1s > conv 3x3+1s\n",
    "    with tf.variable_scope(\"branch2\"):\n",
    "        branch2_w_conv1 = weight_variable([1, 1, channel_in, filters_num[1]])\n",
    "        branch2_b_conv1 = bias_variable([filters_num[1]])\n",
    "        branch2_h_conv1 = tf.nn.relu(conv2d(x, branch2_w_conv1) + branch2_b_conv1)\n",
    "        branch2_w_conv2 = weight_variable([3, 3, filters_num[1], filters_num[2]])\n",
    "        branch2_b_conv2 = bias_variable([filters_num[2]])\n",
    "        branch2_h_conv2 = tf.nn.relu(conv2d(branch2_h_conv1, branch2_w_conv2) + branch2_b_conv2)\n",
    "    # 第三分支 conv 1x1+1s > conv 5x5+1s\n",
    "    with tf.variable_scope(\"branch3\"):\n",
    "        branch3_w_conv1 = weight_variable([1, 1, channel_in, filters_num[3]])\n",
    "        branch3_b_conv1 = bias_variable([filters_num[3]])\n",
    "        branch3_h_conv1 = tf.nn.relu(conv2d(x, branch3_w_conv1) + branch3_b_conv1)\n",
    "        branch3_w_conv2 = weight_variable([5, 5, filters_num[3], filters_num[4]])\n",
    "        branch3_b_conv2 = bias_variable([filters_num[4]])\n",
    "        branch3_h_conv2 = tf.nn.relu(conv2d(branch3_h_conv1, branch3_w_conv2) + branch3_b_conv2)\n",
    "    # 第四分支 max_pool 3x3+1s > conv 1x1+1s\n",
    "    with tf.variable_scope(\"branch4\"):\n",
    "        branch4_pool1 = max_pool_3x3(x)\n",
    "        branch4_w_conv1 = weight_variable([1, 1, channel_in, filters_num[5]])\n",
    "        branch4_b_conv1 = bias_variable([filters_num[5]])\n",
    "        branch4_h_conv1 = tf.nn.relu(conv2d(branch4_pool1, branch4_w_conv1) + branch4_b_conv1)\n",
    "    # 输出叠加\n",
    "    with tf.variable_scope(\"depth_concat\"):\n",
    "        concat = tf.concat([branch1_h_conv1, branch2_h_conv2, branch3_h_conv2, branch4_h_conv1], axis=3)\n",
    "    return concat\n",
    "\n",
    "\n",
    "# 第一层 conv 7x7+2s 64 > max_pool 3x3+2s > lrn\n",
    "# w_conv1 = weight_variable([7, 7, 3, 64])\n",
    "# b_conv1 = bias_variable([64])\n",
    "# h_conv1 = tf.nn.relu(conv2d_2(x_image, w_conv1) + b_conv1)\n",
    "# h_pool1 = max_pool_3x3_2(h_conv1)\n",
    "# hh_lrn1 = tf.nn.lrn(h_pool1, 4, bias=1.0, alpha=0.001 / 9.0, beta=0.75)\n",
    "\n",
    "# 第二层 conv 1x1+1s 64 > conv 3x3+1s 192 > lrn > max_pool 3x3+2s\n",
    "# w_conv2 = weight_variable([1, 1, 64, 64])\n",
    "# b_conv2 = bias_variable([64])\n",
    "# h_conv2 = tf.nn.relu(conv2d(hh_lrn1, w_conv2) + b_conv2)\n",
    "# w_conv3 = weight_variable([3, 3, 64, 192])\n",
    "# b_conv3 = bias_variable([192])\n",
    "# h_conv3 = tf.nn.relu(conv2d(h_conv2, w_conv3) + b_conv3)\n",
    "# h_lrn2 = tf.nn.lrn(h_conv3, 4, bias=1.0, alpha=0.001 / 9.0, beta=0.75)\n",
    "# h_pool2 = max_pool_3x3_2(h_lrn2)\n",
    "\n",
    "# cifar10图片尺寸较小，为配合后续的计算，调整一些原有结构压缩成28x28x192\n",
    "# 第一层\n",
    "w_conv1 = weight_variable([3, 3, 3, 64])\n",
    "b_conv1 = bias_variable([64])\n",
    "h_conv1 = tf.nn.relu(conv2d_v(x_image, w_conv1) + b_conv1)\n",
    "h_pool1 = max_pool_3x3(h_conv1)\n",
    "hh_lrn1 = tf.nn.lrn(h_pool1, 4, bias=1.0, alpha=0.001 / 9.0, beta=0.75)\n",
    "# 第二层\n",
    "w_conv2 = weight_variable([1, 1, 64, 64])\n",
    "b_conv2 = bias_variable([64])\n",
    "h_conv2 = tf.nn.relu(conv2d(hh_lrn1, w_conv2) + b_conv2)\n",
    "w_conv3 = weight_variable([3, 3, 64, 192])\n",
    "b_conv3 = bias_variable([192])\n",
    "h_conv3 = tf.nn.relu(conv2d_v(h_conv2, w_conv3) + b_conv3)\n",
    "h_lrn2 = tf.nn.lrn(h_conv3, 4, bias=1.0, alpha=0.001 / 9.0, beta=0.75)\n",
    "h_pool2 = max_pool_3x3(h_lrn2)\n",
    "\n",
    "# 第三层\n",
    "# inception 3a\n",
    "filters_num_3a = [64, 96, 128, 16, 32, 32]  # 设置inception 3a的通道数\n",
    "inception_3a = inception(h_pool2, 192, filters_num_3a)\n",
    "\n",
    "# inception 3b\n",
    "filters_num_3b = [128, 128, 192, 32, 96, 64]\n",
    "inception_3b = inception(inception_3a, 256, filters_num_3b)\n",
    "\n",
    "h_pool3 = max_pool_3x3_2(inception_3b)\n",
    "\n",
    "# 第四层                                 >\n",
    "# inception 4a\n",
    "filters_num_4a = [192, 96, 208, 16, 48, 64]\n",
    "inception_4a = inception(h_pool3, 480, filters_num_4a)\n",
    "# inception 4b\n",
    "filters_num_4b = [160, 112, 224, 24, 64, 64]\n",
    "inception_4b = inception(inception_4a, 512, filters_num_4b)\n",
    "# softmax0\n",
    "h_pool4 = avg_pool_5x5(inception_4a)\n",
    "# > conv 1x1 128\n",
    "w_conv4 = weight_variable([1, 1, 512, 128])\n",
    "b_conv4 = bias_variable([128])\n",
    "h_conv4 = tf.nn.relu(conv2d(h_pool4, w_conv4) + b_conv4)\n",
    "h_flat1 = tf.reshape(h_conv4, shape=[-1, 4 * 4 * 128])  # 重新展开\n",
    "# > fc 1x1 1024\n",
    "W_fc1 = weight_variable([4 * 4 * 128, 1024])\n",
    "b_fc1 = bias_variable([1024])\n",
    "h_fc1 = tf.nn.relu(tf.matmul(h_flat1, W_fc1) + b_fc1)\n",
    "# > fc 1x1 10\n",
    "dropout_rate0 = tf.placeholder(\"float\")\n",
    "h_fc1_drop = tf.nn.dropout(h_fc1, rate=dropout_rate0)\n",
    "W_fc2 = weight_variable([1024, 10])\n",
    "b_fc2 = bias_variable([10])\n",
    "h_fc2 = tf.matmul(h_fc1_drop, W_fc2) + b_fc2\n",
    "# > softmax0\n",
    "pred0 = tf.nn.softmax(h_fc2)\n",
    "# inception 4c\n",
    "filters_num_4c = [128, 128, 256, 24, 64, 64]\n",
    "inception_4c = inception(inception_4b, 512, filters_num_4c)\n",
    "# inception 4d\n",
    "filters_num_4d = [112, 144, 288, 32, 64, 64]\n",
    "inception_4d = inception(inception_4c, 512, filters_num_4d)\n",
    "# inception 4e\n",
    "filters_num_4e = [256, 160, 320, 32, 128, 128]\n",
    "inception_4e = inception(inception_4d, 528, filters_num_4e)\n",
    "h_pool5 = max_pool_3x3_2(inception_4e)\n",
    "# softmax1\n",
    "h_pool6 = avg_pool_5x5(inception_4d)\n",
    "# > conv 1x1 128\n",
    "w_conv5 = weight_variable([1, 1, 528, 128])\n",
    "b_conv5 = bias_variable([128])\n",
    "h_conv5 = tf.nn.relu(conv2d(h_pool6, w_conv5) + b_conv5)\n",
    "h_flat2 = tf.reshape(h_conv5, shape=[-1, 4 * 4 * 128])  # 重新展开\n",
    "# > fc 1x1 1024\n",
    "W_fc3 = weight_variable([4 * 4 * 128, 1024])\n",
    "b_fc3 = bias_variable([1024])\n",
    "h_fc3 = tf.nn.relu(tf.matmul(h_flat2, W_fc3) + b_fc3)\n",
    "# > fc 1x1 10\n",
    "dropout_rate1 = tf.placeholder(\"float\")\n",
    "h_fc3_drop = tf.nn.dropout(h_fc1, rate=dropout_rate1)\n",
    "W_fc4 = weight_variable([1024, 10])\n",
    "b_fc4 = bias_variable([10])\n",
    "h_fc4 = tf.matmul(h_fc3_drop, W_fc4) + b_fc4\n",
    "# > softmax1\n",
    "pred1 = tf.nn.softmax(h_fc4)\n",
    "\n",
    "# 第五层\n",
    "# inception 5a\n",
    "filters_num_5a = [256, 160, 320, 32, 128, 128]\n",
    "inception_5a = inception(h_pool5, 832, filters_num_5a)\n",
    "# inception 5b\n",
    "filters_num_5b = [384, 192, 384, 48, 128, 128]\n",
    "inception_5b = inception(inception_5a, 832, filters_num_5b)\n",
    "\n",
    "# avg_pool_7x7\n",
    "h_pool7 = avg_pool_7x7(inception_5b)\n",
    "h_flat3 = tf.reshape(h_pool7, shape=[-1, 1 * 1 * 1024])  # 重新展开\n",
    "\n",
    "# softmax2\n",
    "dropout_rate2 = tf.placeholder(\"float\")\n",
    "h_pool7_drop = tf.nn.dropout(h_flat3, rate=dropout_rate2)\n",
    "W_fc5 = weight_variable([1024, 10])\n",
    "b_fc5 = bias_variable([10])\n",
    "h_fc5 = tf.matmul(h_pool7_drop, W_fc5) + b_fc2\n",
    "pred2 = tf.nn.softmax(h_fc5)\n",
    "\n",
    "# 整合softmax\n",
    "forward = h_fc5 + h_fc4 * 0.3 + h_fc2 * 0.3\n",
    "pred = pred2 + pred1 * 0.3 + pred0 * 0.3\n",
    "\n",
    "# 定义损失函数\n",
    "with tf.name_scope(\"LossFunction\"):\n",
    "    loss_function = tf.reduce_mean(tf.nn.softmax_cross_entropy_with_logits_v2(logits=forward, labels=y))"
   ]
  },
  {
   "cell_type": "markdown",
   "metadata": {},
   "source": [
    "# 4.训练模型"
   ]
  },
  {
   "cell_type": "code",
   "execution_count": 9,
   "metadata": {},
   "outputs": [
    {
     "name": "stderr",
     "output_type": "stream",
     "text": [
      "WARNING: Logging before flag parsing goes to stderr.\n",
      "W0809 10:16:22.000710  6140 deprecation.py:323] From C:\\Users\\DELL\\AppData\\Roaming\\Python\\Python37\\site-packages\\tensorflow\\python\\training\\saver.py:1276: checkpoint_exists (from tensorflow.python.training.checkpoint_management) is deprecated and will be removed in a future version.\n",
      "Instructions for updating:\n",
      "Use standard file APIs to check for files with this prefix.\n"
     ]
    },
    {
     "name": "stdout",
     "output_type": "stream",
     "text": [
      "Finished loading D:/save_path/GoogleNet/model-200\n",
      "Set the load save step:200\n"
     ]
    }
   ],
   "source": [
    "train_epochs = 0  # 迭代次数 20\n",
    "learning_rate = 0.0001  # 学习率\n",
    "\n",
    "# Adam优化器 设置学习率和优化目标损失最小化\n",
    "optimizer = tf.train.AdamOptimizer(learning_rate).minimize(loss_function)\n",
    "\n",
    "# 定义预测类别匹配情况\n",
    "correct_prediction = tf.equal(tf.argmax(pred, 1), tf.argmax(y, 1))\n",
    "\n",
    "# 定义准确率，将布尔值转化成浮点数，再求平均值\n",
    "accuracy = tf.reduce_mean(tf.cast(correct_prediction, \"float\"))\n",
    "\n",
    "# 每个批次的大小，每次放入的大小，每次放入 128张图片 以矩阵的方式\n",
    "batch_size = 128\n",
    "\n",
    "# 计算一共有多少个批次，数量整除大小训练出有多少批次\n",
    "n_batch = len(Ytrain_onehot) // batch_size // 10 * 10\n",
    "\n",
    "# 定义显示训练过程中验证的间隔批量次数\n",
    "display_test_num = n_batch // 10\n",
    "\n",
    "# 定义显示训练过程.的间隔批量次数\n",
    "display_train_num = display_test_num // 10\n",
    "\n",
    "# 定义保存模型\n",
    "saver = tf.train.Saver()\n",
    "save_dir = \"../save_path/GoogleNet/\"\n",
    "\n",
    "# 定义保存模型编号\n",
    "save_step = 0\n",
    "\n",
    "# 恢复保存模型\n",
    "ckpt_dir = tf.train.latest_checkpoint(save_dir)\n",
    "sess = tf.Session()  # 建立会话\n",
    "if ckpt_dir != None:\n",
    "    saver.restore(sess, ckpt_dir)\n",
    "    print(\"Finished loading\", ckpt_dir)\n",
    "    save_step = int(input(\"Set the load save step:\"))\n",
    "else:\n",
    "    # 变量初始化\n",
    "    sess.run(tf.initialize_all_variables())\n",
    "    print(\"Finished initialize\")\n",
    "\n",
    "# 定义批次训练数据的占位符\n",
    "x_batch = tf.placeholder(tf.float32, [None, 32, 32, 3], name=\"X_batch\")\n",
    "# 随机上下翻转批次图片\n",
    "Xtrain_batch_up = tf.image.random_flip_up_down(x_batch)\n",
    "# 随机左右翻转批次图片\n",
    "Xtrain_batch_lf = tf.image.random_flip_left_right(Xtrain_batch_up)\n",
    "\n",
    "\n",
    "# 对角旋转批次图片\n",
    "# Xtrain_batch_tp = tf.image.transpose_image(x_batch)\n",
    "\n",
    "\n",
    "# 定义训练集批次函数\n",
    "def get_train_batch(num, size):\n",
    "    Xtrain_batch = Xtrain_norm_shuffle[num * size:(num + 1) * size]\n",
    "    Ytrain_batch = Ytrain_onehot_shuffle[num * size:(num + 1) * size]\n",
    "    # 随机翻转数据\n",
    "    with tf.Session() as sess_batch:\n",
    "        Xtrain_batch = sess_batch.run(Xtrain_batch_lf, feed_dict={x_batch: Xtrain_batch})\n",
    "        return Xtrain_batch, Ytrain_batch\n",
    "\n",
    "\n",
    "# 迭代训练\n",
    "for epoch in range(train_epochs):\n",
    "    # 打乱训练数据集\n",
    "    index = [i for i in range(len(Ytrain_onehot))]\n",
    "    random.shuffle(index)\n",
    "    Xtrain_norm_shuffle = Xtrain_norm[index]\n",
    "    Ytrain_onehot_shuffle = Ytrain_onehot[index]\n",
    "\n",
    "    # 批次迭代训练\n",
    "    for batch in range(0, n_batch):\n",
    "        xs, ys = get_train_batch(batch, batch_size)\n",
    "        sess.run(optimizer, feed_dict={x: xs, y: ys, dropout_rate0: 0.4, dropout_rate1: 0.4, dropout_rate2: 0.4})\n",
    "\n",
    "        if (batch + 1) % display_train_num == 0:\n",
    "            print(\".\", end=\"\")\n",
    "\n",
    "        if (batch + 1) % display_test_num == 0:\n",
    "            # 保存模型\n",
    "            save_step += 1\n",
    "            save_path = saver.save(sess, save_dir + \"model\", global_step=save_step)\n",
    "            print(\"Complete save \", save_path)\n",
    "            # 批次训练完成之后，使用验证数据计算误差与准确率\n",
    "            loss, acc = sess.run([loss_function, accuracy], feed_dict={x: xs,\n",
    "                                                                       y: ys,\n",
    "                                                                       dropout_rate0: 0,\n",
    "                                                                       dropout_rate1: 0,\n",
    "                                                                       dropout_rate2: 0})\n",
    "            # 显示训练信息\n",
    "            print(\"TrainEpoch=\", '%02d' % (epoch + 1), \"TrainBatch=\", '%04d' % (batch + 1),\n",
    "                  \"Loss=\", '{:.9f}'.format(loss), \"TrainAccuracy=\", \"{:.4f}\".format(acc))\n",
    "\n",
    "    learning_rate = 0.9 * learning_rate  # 学习率衰减"
   ]
  },
  {
   "cell_type": "markdown",
   "metadata": {},
   "source": [
    "# 5.评估模型"
   ]
  },
  {
   "cell_type": "code",
   "execution_count": 10,
   "metadata": {},
   "outputs": [
    {
     "name": "stdout",
     "output_type": "stream",
     "text": [
      "Test accuracy:0.807292\n"
     ]
    }
   ],
   "source": [
    "test_total_batch = int(len(Xtest_norm) / batch_size)\n",
    "test_acc_sum = 0.0\n",
    "for i in range(test_total_batch):\n",
    "    test_image_batch = Xtest_norm[i * batch_size:(i + 1) * batch_size]\n",
    "    test_label_batch = Ytest_onehot[i * batch_size:(i + 1) * batch_size]\n",
    "    test_batch_acc = sess.run(accuracy, feed_dict={x: test_image_batch,\n",
    "                                                   y: test_label_batch,\n",
    "                                                   dropout_rate0: 0,\n",
    "                                                   dropout_rate1: 0,\n",
    "                                                   dropout_rate2: 0})\n",
    "    test_acc_sum += test_batch_acc\n",
    "test_acc = float(test_acc_sum / test_total_batch)\n",
    "print(\"Test accuracy:{:.6f}\".format(test_acc))"
   ]
  },
  {
   "cell_type": "markdown",
   "metadata": {},
   "source": [
    "# 6. 模型预测"
   ]
  },
  {
   "cell_type": "markdown",
   "metadata": {},
   "source": [
    "查看预测结果"
   ]
  },
  {
   "cell_type": "code",
   "execution_count": 11,
   "metadata": {},
   "outputs": [
    {
     "name": "stdout",
     "output_type": "stream",
     "text": [
      "[5 1 8 7 1 3 0 5 7 9]\n"
     ]
    }
   ],
   "source": [
    "# 转换第201-210张测试图片pred预测结果独热编码格式为数字0-9\n",
    "prediction_result = sess.run(tf.argmax(pred, 1), feed_dict={x: Xtest_norm[200:210],\n",
    "                                                            dropout_rate0: 0,\n",
    "                                                            dropout_rate1: 0,\n",
    "                                                            dropout_rate2: 0})\n",
    "\n",
    "# 查看第201-210张测试图片的预测结果\n",
    "print(prediction_result)"
   ]
  },
  {
   "cell_type": "markdown",
   "metadata": {},
   "source": [
    "预测结果可视化比对"
   ]
  },
  {
   "cell_type": "code",
   "execution_count": 12,
   "metadata": {},
   "outputs": [
    {
     "data": {
      "image/png": "[encoded data removed]",
      "text/plain": [
       "<Figure size 864x432 with 10 Axes>"
      ]
     },
     "metadata": {
      "needs_background": "light"
     },
     "output_type": "display_data"
    }
   ],
   "source": [
    "# 定义显示图缘数据及其对应标签的函数\n",
    "def plot_images_labels_prediction(images, labels, prediction, idx, num=10):\n",
    "    fig = plt.gcf()\n",
    "    fig.set_size_inches(12, 6)\n",
    "    if num > 10:\n",
    "        num = 10\n",
    "    for i in range(0, num):\n",
    "        ax = plt.subplot(2, 5, 1 + i)\n",
    "        ax.imshow(images[idx], cmap=\"binary\")\n",
    "        title = str(i) + ',' + label_dict[labels[idx]]\n",
    "        if len(prediction) > 0:\n",
    "            title += '=>' + label_dict[prediction[i]]\n",
    "        ax.set_title(title, fontsize=10)\n",
    "        idx += 1\n",
    "    plt.show()\n",
    "\n",
    "\n",
    "# 验证第201-210张测试图片的预测结果\n",
    "plot_images_labels_prediction(Xtest, Ytest, prediction_result, 200, 10)"
   ]
  }
 ],
 "metadata": {
  "kernelspec": {
   "display_name": "Python 3",
   "language": "python",
   "name": "python3"
  },
  "language_info": {
   "codemirror_mode": {
    "name": "ipython",
    "version": 3
   },
   "file_extension": ".py",
   "mimetype": "text/x-python",
   "name": "python",
   "nbconvert_exporter": "python",
   "pygments_lexer": "ipython3",
   "version": "3.7.2"
  }
 },
 "nbformat": 4,
 "nbformat_minor": 2
}
